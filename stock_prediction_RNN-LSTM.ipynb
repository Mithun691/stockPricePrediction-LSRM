{
  "nbformat": 4,
  "nbformat_minor": 0,
  "metadata": {
    "kernelspec": {
      "display_name": "Python 3",
      "language": "python",
      "name": "python3"
    },
    "language_info": {
      "codemirror_mode": {
        "name": "ipython",
        "version": 3
      },
      "file_extension": ".py",
      "mimetype": "text/x-python",
      "name": "python",
      "nbconvert_exporter": "python",
      "pygments_lexer": "ipython3",
      "version": "3.7.2"
    },
    "colab": {
      "name": "google stock prediction [LSTM].ipynb",
      "provenance": [],
      "collapsed_sections": [],
      "toc_visible": true
    }
  },
  "cells": [
    {
      "cell_type": "markdown",
      "metadata": {
        "id": "lSyI_FA4kEu-"
      },
      "source": [
        "## importing dependencies \n",
        "\n"
      ]
    },
    {
      "cell_type": "code",
      "metadata": {
        "id": "s2x5emWskEvN"
      },
      "source": [
        "import numpy as np \n",
        "import pandas as pd \n",
        "import matplotlib.pyplot as plt \n",
        "from sklearn.preprocessing import MinMaxScaler\n",
        "from keras.models import Sequential\n",
        "from keras.layers import Dense,LSTM,Dropout"
      ],
      "execution_count": 1,
      "outputs": []
    },
    {
      "cell_type": "markdown",
      "metadata": {
        "id": "RJH955PVkEvP"
      },
      "source": [
        "### importing the training data of GOOG historical prices"
      ]
    },
    {
      "cell_type": "code",
      "metadata": {
        "id": "B82ig83hkEvQ"
      },
      "source": [
        "data = pd.read_csv('trainData.csv') \n"
      ],
      "execution_count": 2,
      "outputs": []
    },
    {
      "cell_type": "code",
      "metadata": {
        "colab": {
          "base_uri": "https://localhost:8080/"
        },
        "id": "3wkyRSAXkEvR",
        "outputId": "67d99205-5f9f-4a41-d2df-c57513d66cb2"
      },
      "source": [
        "data.info()"
      ],
      "execution_count": 3,
      "outputs": [
        {
          "output_type": "stream",
          "text": [
            "<class 'pandas.core.frame.DataFrame'>\n",
            "RangeIndex: 1258 entries, 0 to 1257\n",
            "Data columns (total 6 columns):\n",
            " #   Column  Non-Null Count  Dtype  \n",
            "---  ------  --------------  -----  \n",
            " 0   Date    1258 non-null   object \n",
            " 1   Open    1258 non-null   float64\n",
            " 2   High    1258 non-null   float64\n",
            " 3   Low     1258 non-null   float64\n",
            " 4   Close   1258 non-null   object \n",
            " 5   Volume  1258 non-null   object \n",
            "dtypes: float64(3), object(3)\n",
            "memory usage: 59.1+ KB\n"
          ],
          "name": "stdout"
        }
      ]
    },
    {
      "cell_type": "markdown",
      "metadata": {
        "id": "Syd6h64KkEvS"
      },
      "source": [
        "## choosing the close column \n"
      ]
    },
    {
      "cell_type": "code",
      "metadata": {
        "id": "0CCcNp3qkEvS"
      },
      "source": [
        "data[\"Close\"]=pd.to_numeric(data.Close,errors='coerce') #turning the Close column to numeric\n",
        "data = data.dropna() #romeving the NA values\n",
        "trainData = data.iloc[:,4:5].values #selecting only the closing prices for training\n"
      ],
      "execution_count": 4,
      "outputs": []
    },
    {
      "cell_type": "markdown",
      "metadata": {
        "id": "Q8_nrzXdkEvT"
      },
      "source": [
        "## scaling the values in the range of 0-1 for best preformances "
      ]
    },
    {
      "cell_type": "code",
      "metadata": {
        "colab": {
          "base_uri": "https://localhost:8080/"
        },
        "id": "4J9F0qb7kEvT",
        "outputId": "2949f44c-d1d5-4e36-e55d-b2dbd0a45c91"
      },
      "source": [
        "sc = MinMaxScaler(feature_range=(0,1))\n",
        "trainData = sc.fit_transform(trainData)\n",
        "trainData.shape"
      ],
      "execution_count": 5,
      "outputs": [
        {
          "output_type": "execute_result",
          "data": {
            "text/plain": [
              "(1149, 1)"
            ]
          },
          "metadata": {
            "tags": []
          },
          "execution_count": 5
        }
      ]
    },
    {
      "cell_type": "markdown",
      "metadata": {
        "id": "VUG7Z6b8kEvU"
      },
      "source": [
        "## preparing the data for LSTM\n",
        " since its a time series problem we took 60 as timestep for our learning : given *60 closing values* as an input data the *61st value* is our output"
      ]
    },
    {
      "cell_type": "code",
      "metadata": {
        "id": "lGsZO7ZVkEvU"
      },
      "source": [
        "X_train = []\n",
        "y_train = []\n",
        "\n",
        "for i in range (60,1149): #60 : timestep // 1149 : length of the data\n",
        "    X_train.append(trainData[i-60:i,0]) \n",
        "    y_train.append(trainData[i,0])\n",
        "\n",
        "X_train,y_train = np.array(X_train),np.array(y_train)"
      ],
      "execution_count": 6,
      "outputs": []
    },
    {
      "cell_type": "markdown",
      "metadata": {
        "id": "k38RJch0kEvV"
      },
      "source": [
        "ps : LSTM take a 3D tensor (seq_len,timestep,batch_size)"
      ]
    },
    {
      "cell_type": "code",
      "metadata": {
        "colab": {
          "base_uri": "https://localhost:8080/"
        },
        "id": "iwyE7dq8kEvV",
        "outputId": "430cd8d8-8380-45c1-a8c1-982ff74207aa"
      },
      "source": [
        "X_train = np.reshape(X_train,(X_train.shape[0],X_train.shape[1],1)) #adding the batch_size axis\n",
        "X_train.shape"
      ],
      "execution_count": 7,
      "outputs": [
        {
          "output_type": "execute_result",
          "data": {
            "text/plain": [
              "(1089, 60, 1)"
            ]
          },
          "metadata": {
            "tags": []
          },
          "execution_count": 7
        }
      ]
    },
    {
      "cell_type": "markdown",
      "metadata": {
        "id": "mqn6i66skEvV"
      },
      "source": [
        "## building the model "
      ]
    },
    {
      "cell_type": "code",
      "metadata": {
        "id": "te-hhlhHkEvW"
      },
      "source": [
        "model = Sequential()\n",
        "\n",
        "model.add(LSTM(units=100, return_sequences = True, input_shape =(X_train.shape[1],1)))\n",
        "model.add(Dropout(0.2))\n",
        "\n",
        "model.add(LSTM(units=100, return_sequences = True))\n",
        "model.add(Dropout(0.2))\n",
        "\n",
        "model.add(LSTM(units=100, return_sequences = True))\n",
        "model.add(Dropout(0.2))\n",
        "\n",
        "model.add(LSTM(units=100, return_sequences = False))\n",
        "model.add(Dropout(0.2))\n",
        "\n",
        "model.add(Dense(units =1))\n",
        "model.compile(optimizer='adam',loss=\"mean_squared_error\")"
      ],
      "execution_count": 8,
      "outputs": []
    },
    {
      "cell_type": "code",
      "metadata": {
        "colab": {
          "base_uri": "https://localhost:8080/"
        },
        "id": "J__LAJ1rkEvW",
        "outputId": "d7e0cab2-f8c0-41bd-82ec-b0f175bd3223"
      },
      "source": [
        "hist = model.fit(X_train, y_train, epochs = 10, batch_size = 32, verbose=2)"
      ],
      "execution_count": 9,
      "outputs": [
        {
          "output_type": "stream",
          "text": [
            "Epoch 1/10\n",
            "35/35 - 11s - loss: 0.0343\n",
            "Epoch 2/10\n",
            "35/35 - 6s - loss: 0.0105\n",
            "Epoch 3/10\n",
            "35/35 - 6s - loss: 0.0100\n",
            "Epoch 4/10\n",
            "35/35 - 6s - loss: 0.0084\n",
            "Epoch 5/10\n",
            "35/35 - 6s - loss: 0.0093\n",
            "Epoch 6/10\n",
            "35/35 - 6s - loss: 0.0072\n",
            "Epoch 7/10\n",
            "35/35 - 6s - loss: 0.0074\n",
            "Epoch 8/10\n",
            "35/35 - 6s - loss: 0.0063\n",
            "Epoch 9/10\n",
            "35/35 - 6s - loss: 0.0067\n",
            "Epoch 10/10\n",
            "35/35 - 6s - loss: 0.0073\n"
          ],
          "name": "stdout"
        }
      ]
    },
    {
      "cell_type": "markdown",
      "metadata": {
        "id": "xVEeiDT9kEvW"
      },
      "source": [
        "### ploting the training loss\n"
      ]
    },
    {
      "cell_type": "code",
      "metadata": {
        "colab": {
          "base_uri": "https://localhost:8080/",
          "height": 295
        },
        "id": "qno3ONATkEvX",
        "outputId": "cb8054ed-2a27-4615-f16b-8fe22c68a99d"
      },
      "source": [
        "plt.plot(hist.history['loss'])\n",
        "plt.title('model loss')\n",
        "plt.ylabel('loss')\n",
        "plt.xlabel('epoch')\n",
        "plt.legend(['train'], loc='upper left')\n",
        "plt.show()"
      ],
      "execution_count": 10,
      "outputs": [
        {
          "output_type": "display_data",
          "data": {
            "image/png": "[encoded data removed]",
            "text/plain": [
              "<Figure size 432x288 with 1 Axes>"
            ]
          },
          "metadata": {
            "tags": [],
            "needs_background": "light"
          }
        }
      ]
    },
    {
      "cell_type": "markdown",
      "metadata": {
        "id": "ifid1QfAkEvX"
      },
      "source": [
        "### testing the model on new data\n"
      ]
    },
    {
      "cell_type": "code",
      "metadata": {
        "colab": {
          "base_uri": "https://localhost:8080/"
        },
        "id": "7u9TKmHpkEvY",
        "outputId": "e14bb939-9a94-44dc-c018-3eb8b805989e"
      },
      "source": [
        "testData = pd.read_csv('GOOG.csv') #importing the test data\n",
        "testData[\"Close\"]=pd.to_numeric(testData.Close,errors='coerce') #turning the close column to numerical type\n",
        "testData = testData.dropna() #droping the NA values\n",
        "testData = testData.iloc[:,4:5] #selecting the closing prices for testing\n",
        "y_test = testData.iloc[60:,0:].values #selecting the labels \n",
        "#input array for the model\n",
        "inputClosing = testData.iloc[:,0:].values \n",
        "inputClosing_scaled = sc.transform(inputClosing)\n",
        "inputClosing_scaled.shape\n",
        "X_test = []\n",
        "length = len(testData)\n",
        "timestep = 60\n",
        "for i in range(timestep,length): #doing the same preivous preprocessing \n",
        "    X_test.append(inputClosing_scaled[i-timestep:i,0])\n",
        "X_test = np.array(X_test)\n",
        "X_test = np.reshape(X_test,(X_test.shape[0],X_test.shape[1],1))\n",
        "X_test.shape"
      ],
      "execution_count": 11,
      "outputs": [
        {
          "output_type": "execute_result",
          "data": {
            "text/plain": [
              "(192, 60, 1)"
            ]
          },
          "metadata": {
            "tags": []
          },
          "execution_count": 11
        }
      ]
    },
    {
      "cell_type": "code",
      "metadata": {
        "id": "kL37MDv_kEvY"
      },
      "source": [
        "y_pred = model.predict(X_test) #predicting the new values"
      ],
      "execution_count": 12,
      "outputs": []
    },
    {
      "cell_type": "code",
      "metadata": {
        "id": "Tgs2q8xWkEvZ"
      },
      "source": [
        "predicted_price = sc.inverse_transform(y_pred) #inversing the scaling transformation for ploting "
      ],
      "execution_count": 13,
      "outputs": []
    },
    {
      "cell_type": "markdown",
      "metadata": {
        "id": "v_QPd9_SkEvZ"
      },
      "source": [
        "### ploting the results"
      ]
    },
    {
      "cell_type": "code",
      "metadata": {
        "colab": {
          "base_uri": "https://localhost:8080/",
          "height": 295
        },
        "id": "rt4UfNZqkEvZ",
        "outputId": "6c4cf6c8-bd49-45bb-d003-c3b9378f0e24"
      },
      "source": [
        "plt.plot(y_test, color = 'blue', label = 'Actual Stock Price')\n",
        "plt.plot(predicted_price, color = 'red', label = 'Predicted Stock Price')\n",
        "plt.title('GOOG stock price prediction')\n",
        "plt.xlabel('Time')\n",
        "plt.ylabel('Stock Price')\n",
        "plt.ylim([500,1500])\n",
        "plt.legend()\n",
        "plt.show()"
      ],
      "execution_count": 18,
      "outputs": [
        {
          "output_type": "display_data",
          "data": {
            "image/png": "[encoded data removed]",
            "text/plain": [
              "<Figure size 432x288 with 1 Axes>"
            ]
          },
          "metadata": {
            "tags": [],
            "needs_background": "light"
          }
        }
      ]
    },
    {
      "cell_type": "code",
      "metadata": {
        "id": "A1oHU4smk8Xb"
      },
      "source": [
        ""
      ],
      "execution_count": 14,
      "outputs": []
    }
  ]
}